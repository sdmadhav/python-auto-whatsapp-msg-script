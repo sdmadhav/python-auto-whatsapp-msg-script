{
 "cells": [
  {
   "cell_type": "code",
   "execution_count": null,
   "id": "5a1359e7",
   "metadata": {},
   "outputs": [],
   "source": [
    "from selenium import webdriver\n",
    "from selenium.webdriver.support.ui import WebDriverWait\n",
    "from selenium.webdriver.support import expected_conditions as EC\n",
    "from selenium.webdriver.common.keys import Keys\n",
    "from selenium.webdriver.common.by import By\n",
    "import time\n",
    "\n",
    "# Replace below path with the absolute path\n",
    "# to chromedriver in your computer\n",
    "driver = webdriver.Chrome(executable_path=\"C:/Users/2019c/Desktop/chromedriver.exe\")\n",
    "\n",
    "driver.get(\"https://web.whatsapp.com/\")\n",
    "wait = WebDriverWait(driver, 600)\n",
    "import pandas as pd\n",
    "df=pd.read_csv('C:/Users/2019c/Downloads/contacts.csv')\n",
    "name_list=df['Name']\n",
    "# Replace 'Friend's Name' with the name of your friend\n",
    "# or the name of a group\n",
    "target = '\"Aman\"'\n",
    "for i in name_list:\n",
    "    try:\n",
    "        # Replace the below string with your own message\n",
    "        string = \"It's working.... Message sent using Python!!!\"\n",
    "\n",
    "        # x_arg = '//span[contains(@title,' + target + ')]'\n",
    "        x_arg = '//div[@class=\"_13NKt copyable-text selectable-text\"][@data-tab=\"3\"]'\n",
    "        group_title = wait.until(EC.presence_of_element_located((By.XPATH, x_arg)))\n",
    "        group_title.send_keys(i + Keys.ENTER)\n",
    "        inp_xpath = '//div[@class=\"_13NKt copyable-text selectable-text\"][@data-tab=\"10\"]'\n",
    "        input_box = wait.until(EC.presence_of_element_located((\n",
    "            By.XPATH, inp_xpath)))\n",
    "        for i in range(1):\n",
    "            input_box.send_keys(string + Keys.ENTER)\n",
    "            time.sleep(1)\n",
    "    except:\n",
    "        pass"
   ]
  },
  {
   "cell_type": "code",
   "execution_count": null,
   "id": "85c5295f",
   "metadata": {},
   "outputs": [],
   "source": []
  }
 ],
 "metadata": {
  "kernelspec": {
   "display_name": "Python 3 (ipykernel)",
   "language": "python",
   "name": "python3"
  },
  "language_info": {
   "codemirror_mode": {
    "name": "ipython",
    "version": 3
   },
   "file_extension": ".py",
   "mimetype": "text/x-python",
   "name": "python",
   "nbconvert_exporter": "python",
   "pygments_lexer": "ipython3",
   "version": "3.9.6"
  }
 },
 "nbformat": 4,
 "nbformat_minor": 5
}
